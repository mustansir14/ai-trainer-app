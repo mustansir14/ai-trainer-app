{
 "cells": [
  {
   "cell_type": "code",
   "execution_count": 1,
   "metadata": {},
   "outputs": [
    {
     "name": "stdout",
     "output_type": "stream",
     "text": [
      "   Side  Shoulder_Angle  Elbow_Angle   Hip_Angle  Knee_Angle  Ankle_Angle  \\\n",
      "0  left       10.639208   174.466813  174.785143  179.848140   179.419276   \n",
      "1  left       10.590342   174.428706  174.765042  179.775215   179.386147   \n",
      "2  left       10.546746   174.489431  174.785790  179.660017   179.333710   \n",
      "3  left       10.487682   174.614913  174.759542  179.614223   179.313926   \n",
      "4  left       10.412107   174.758503  174.737721  179.570564   179.298805   \n",
      "\n",
      "   Shoulder_Ground_Angle  Elbow_Ground_Angle  Hip_Ground_Angle  \\\n",
      "0                   90.0                90.0              90.0   \n",
      "1                   90.0                90.0              90.0   \n",
      "2                   90.0                90.0              90.0   \n",
      "3                   90.0                90.0              90.0   \n",
      "4                   90.0                90.0              90.0   \n",
      "\n",
      "   Knee_Ground_Angle  Ankle_Ground_Angle          Label  \n",
      "0               90.0                90.0  Jumping Jacks  \n",
      "1               90.0                90.0  Jumping Jacks  \n",
      "2               90.0                90.0  Jumping Jacks  \n",
      "3               90.0                90.0  Jumping Jacks  \n",
      "4               90.0                90.0  Jumping Jacks  \n"
     ]
    }
   ],
   "source": [
    "import pandas as pd\n",
    "\n",
    "# Load the dataset\n",
    "data = pd.read_csv('data/exercise_angles.csv')\n",
    "\n",
    "# Display the first few rows to understand its structure\n",
    "print(data.head())"
   ]
  },
  {
   "cell_type": "code",
   "execution_count": 2,
   "metadata": {},
   "outputs": [
    {
     "name": "stdout",
     "output_type": "stream",
     "text": [
      "Side                     0\n",
      "Shoulder_Angle           0\n",
      "Elbow_Angle              0\n",
      "Hip_Angle                0\n",
      "Knee_Angle               0\n",
      "Ankle_Angle              0\n",
      "Shoulder_Ground_Angle    0\n",
      "Elbow_Ground_Angle       0\n",
      "Hip_Ground_Angle         0\n",
      "Knee_Ground_Angle        0\n",
      "Ankle_Ground_Angle       0\n",
      "Label                    0\n",
      "dtype: int64\n"
     ]
    }
   ],
   "source": [
    "# Check for missing values\n",
    "print(data.isnull().sum())\n",
    "\n",
    "# Drop or fill missing values if needed\n",
    "data = data.dropna()  # Example of dropping rows with missing values"
   ]
  },
  {
   "cell_type": "code",
   "execution_count": 3,
   "metadata": {},
   "outputs": [],
   "source": [
    "from sklearn.preprocessing import LabelEncoder\n",
    "\n",
    "# Initialize the encoder\n",
    "encoder = LabelEncoder()\n",
    "\n",
    "# Encode the exercise labels\n",
    "data['exercise_label'] = encoder.fit_transform(data['Label'])  # Example column name\n"
   ]
  },
  {
   "cell_type": "code",
   "execution_count": 4,
   "metadata": {},
   "outputs": [],
   "source": [
    "from sklearn.model_selection import train_test_split\n",
    "\n",
    "# Define features (angles) and labels (exercise type)\n",
    "X = data.drop(columns=['Side', 'Label', 'exercise_label'])  # Features\n",
    "y = data['exercise_label']  # Labels\n",
    "\n",
    "# Split the data into training and testing sets\n",
    "X_train, X_test, y_train, y_test = train_test_split(X, y, test_size=0.2, random_state=42)\n"
   ]
  },
  {
   "cell_type": "code",
   "execution_count": 5,
   "metadata": {},
   "outputs": [
    {
     "name": "stdout",
     "output_type": "stream",
     "text": [
      "Model accuracy: 97.08%\n"
     ]
    }
   ],
   "source": [
    "from sklearn.ensemble import RandomForestClassifier\n",
    "from sklearn.metrics import accuracy_score\n",
    "\n",
    "# Initialize the model\n",
    "model = RandomForestClassifier(n_estimators=100, random_state=42)\n",
    "\n",
    "# Train the model\n",
    "model.fit(X_train, y_train)\n",
    "\n",
    "# Make predictions on the test set\n",
    "y_pred = model.predict(X_test)\n",
    "\n",
    "# Evaluate the accuracy\n",
    "accuracy = accuracy_score(y_test, y_pred)\n",
    "print(f'Model accuracy: {accuracy * 100:.2f}%')\n"
   ]
  },
  {
   "cell_type": "code",
   "execution_count": 6,
   "metadata": {},
   "outputs": [
    {
     "data": {
      "text/plain": [
       "['model/exercise_classifier.pkl']"
      ]
     },
     "execution_count": 6,
     "metadata": {},
     "output_type": "execute_result"
    }
   ],
   "source": [
    "import joblib\n",
    "\n",
    "# Save the trained model\n",
    "joblib.dump(model, 'model/exercise_classifier.pkl')\n"
   ]
  },
  {
   "cell_type": "code",
   "execution_count": 7,
   "metadata": {},
   "outputs": [],
   "source": [
    "data.to_csv(\"data/exercise_angles_preprocessed.csv\", index=False)"
   ]
  },
  {
   "cell_type": "code",
   "execution_count": null,
   "metadata": {},
   "outputs": [],
   "source": []
  }
 ],
 "metadata": {
  "kernelspec": {
   "display_name": "venv",
   "language": "python",
   "name": "python3"
  },
  "language_info": {
   "codemirror_mode": {
    "name": "ipython",
    "version": 3
   },
   "file_extension": ".py",
   "mimetype": "text/x-python",
   "name": "python",
   "nbconvert_exporter": "python",
   "pygments_lexer": "ipython3",
   "version": "3.11.5 (main, Aug 24 2023, 12:23:19) [GCC 11.4.0]"
  },
  "orig_nbformat": 4,
  "vscode": {
   "interpreter": {
    "hash": "da6b18c80345f76a5acb7c74fc19879692fd1f8f849e3d05c8539c1d768e2d95"
   }
  }
 },
 "nbformat": 4,
 "nbformat_minor": 2
}
